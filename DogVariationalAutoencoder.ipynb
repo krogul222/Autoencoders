{
  "nbformat": 4,
  "nbformat_minor": 0,
  "metadata": {
    "colab": {
      "name": "DogVariationalAutoencoder.ipynb",
      "version": "0.3.2",
      "provenance": [],
      "collapsed_sections": [],
      "include_colab_link": true
    },
    "kernelspec": {
      "name": "python3",
      "display_name": "Python 3"
    },
    "accelerator": "GPU"
  },
  "cells": [
    {
      "cell_type": "markdown",
      "metadata": {
        "id": "view-in-github",
        "colab_type": "text"
      },
      "source": [
        "<a href=\"https://colab.research.google.com/github/krogul222/Autoencoders/blob/master/DogVariationalAutoencoder.ipynb\" target=\"_parent\"><img src=\"https://colab.research.google.com/assets/colab-badge.svg\" alt=\"Open In Colab\"/></a>"
      ]
    },
    {
      "metadata": {
        "id": "25Al1RrJSfwR",
        "colab_type": "code",
        "colab": {}
      },
      "cell_type": "code",
      "source": [
        "import tensorflow as tf\n",
        "from tensorflow import keras\n",
        "import numpy as np\n",
        "import matplotlib.pyplot as plt\n",
        "import pandas as pd\n",
        "from functools import partial\n"
      ],
      "execution_count": 0,
      "outputs": []
    },
    {
      "metadata": {
        "id": "lCfYsEjBcYmt",
        "colab_type": "code",
        "outputId": "79a30023-b452-4c4e-ace4-3194e49b5903",
        "colab": {
          "base_uri": "https://localhost:8080/",
          "height": 34
        }
      },
      "cell_type": "code",
      "source": [
        "device_name = tf.test.gpu_device_name()\n",
        "if device_name != '/device:GPU:0':\n",
        "  raise SystemError('GPU device not found')\n",
        "print('Found GPU at: {}'.format(device_name))"
      ],
      "execution_count": 0,
      "outputs": [
        {
          "output_type": "stream",
          "text": [
            "Found GPU at: /device:GPU:0\n"
          ],
          "name": "stdout"
        }
      ]
    },
    {
      "metadata": {
        "id": "9n6CwxD9VPM6",
        "colab_type": "code",
        "outputId": "2d32f8f4-7e23-4938-d98e-26ab06e0b814",
        "colab": {
          "base_uri": "https://localhost:8080/",
          "height": 52
        }
      },
      "cell_type": "code",
      "source": [
        "(x_train, y_train), (x_test, y_test) = tf.keras.datasets.cifar10.load_data()"
      ],
      "execution_count": 0,
      "outputs": [
        {
          "output_type": "stream",
          "text": [
            "Downloading data from https://www.cs.toronto.edu/~kriz/cifar-10-python.tar.gz\n",
            "170500096/170498071 [==============================] - 18s 0us/step\n"
          ],
          "name": "stdout"
        }
      ]
    },
    {
      "metadata": {
        "id": "XRjBfT0wE2DT",
        "colab_type": "code",
        "colab": {}
      },
      "cell_type": "code",
      "source": [
        "def grayscale(im):\n",
        "    return im.mean(3).reshape(im.shape[0], -1)"
      ],
      "execution_count": 0,
      "outputs": []
    },
    {
      "metadata": {
        "id": "BO1X0NoDVcJ9",
        "colab_type": "code",
        "outputId": "1d0bcdb1-7d29-4a6e-c9df-c937bfe8f099",
        "colab": {
          "base_uri": "https://localhost:8080/",
          "height": 52
        }
      },
      "cell_type": "code",
      "source": [
        "#n_inputs = 32*32\n",
        "\n",
        "print(np.shape(x_train))\n",
        "\n",
        "x_train = grayscale(x_train)/255\n",
        "x_test = grayscale(x_test)/255\n",
        "\n",
        "x_train_dog_i = np.where(y_train == 5)[0]\n",
        "x_test_dog_i = np.where(y_test == 5)[0]\n",
        "\n",
        "x_train = x_train[x_train_dog_i]\n",
        "x_test = x_test[x_test_dog_i]\n",
        "\n",
        "print(np.shape(x_train)) "
      ],
      "execution_count": 0,
      "outputs": [
        {
          "output_type": "stream",
          "text": [
            "(50000, 32, 32, 3)\n",
            "(5000, 1024)\n"
          ],
          "name": "stdout"
        }
      ]
    },
    {
      "metadata": {
        "id": "T_R6AhEejjO5",
        "colab_type": "code",
        "colab": {}
      },
      "cell_type": "code",
      "source": [
        "def plot_image(image, shape=[32, 32], cmap = \"Greys_r\"):\n",
        "    plt.imshow(image.reshape(shape), cmap=cmap,interpolation=\"nearest\")\n",
        "    plt.axis(\"off\")  "
      ],
      "execution_count": 0,
      "outputs": []
    },
    {
      "metadata": {
        "id": "5MiZywn5V21z",
        "colab_type": "code",
        "outputId": "20782758-3736-484a-ed4e-9a77c832f8b6",
        "colab": {
          "base_uri": "https://localhost:8080/",
          "height": 255
        }
      },
      "cell_type": "code",
      "source": [
        "# looping through the first 10 test images and printing  them out\n",
        "\n",
        "for i in range(10):\n",
        "    plt.subplot(1, 10, i+1)\n",
        "    plot_image(x_train[i], shape=[32, 32], cmap = \"Greys_r\")\n",
        "plt.show()"
      ],
      "execution_count": 0,
      "outputs": [
        {
          "output_type": "error",
          "ename": "NameError",
          "evalue": "ignored",
          "traceback": [
            "\u001b[0;31m---------------------------------------------------------------------------\u001b[0m",
            "\u001b[0;31mNameError\u001b[0m                                 Traceback (most recent call last)",
            "\u001b[0;32m<ipython-input-2-08e48d35a06d>\u001b[0m in \u001b[0;36m<module>\u001b[0;34m()\u001b[0m\n\u001b[1;32m      1\u001b[0m \u001b[0;34m\u001b[0m\u001b[0m\n\u001b[1;32m      2\u001b[0m \u001b[0;32mfor\u001b[0m \u001b[0mi\u001b[0m \u001b[0;32min\u001b[0m \u001b[0mrange\u001b[0m\u001b[0;34m(\u001b[0m\u001b[0;36m10\u001b[0m\u001b[0;34m)\u001b[0m\u001b[0;34m:\u001b[0m\u001b[0;34m\u001b[0m\u001b[0;34m\u001b[0m\u001b[0m\n\u001b[0;32m----> 3\u001b[0;31m     \u001b[0mplt\u001b[0m\u001b[0;34m.\u001b[0m\u001b[0msubplot\u001b[0m\u001b[0;34m(\u001b[0m\u001b[0;36m1\u001b[0m\u001b[0;34m,\u001b[0m \u001b[0;36m10\u001b[0m\u001b[0;34m,\u001b[0m \u001b[0mi\u001b[0m\u001b[0;34m+\u001b[0m\u001b[0;36m1\u001b[0m\u001b[0;34m)\u001b[0m\u001b[0;34m\u001b[0m\u001b[0;34m\u001b[0m\u001b[0m\n\u001b[0m\u001b[1;32m      4\u001b[0m     \u001b[0mplot_image\u001b[0m\u001b[0;34m(\u001b[0m\u001b[0mx_train\u001b[0m\u001b[0;34m[\u001b[0m\u001b[0mi\u001b[0m\u001b[0;34m]\u001b[0m\u001b[0;34m,\u001b[0m \u001b[0mshape\u001b[0m\u001b[0;34m=\u001b[0m\u001b[0;34m[\u001b[0m\u001b[0;36m32\u001b[0m\u001b[0;34m,\u001b[0m \u001b[0;36m32\u001b[0m\u001b[0;34m]\u001b[0m\u001b[0;34m,\u001b[0m \u001b[0mcmap\u001b[0m \u001b[0;34m=\u001b[0m \u001b[0;34m\"Greys_r\"\u001b[0m\u001b[0;34m)\u001b[0m\u001b[0;34m\u001b[0m\u001b[0;34m\u001b[0m\u001b[0m\n\u001b[1;32m      5\u001b[0m \u001b[0mplt\u001b[0m\u001b[0;34m.\u001b[0m\u001b[0mshow\u001b[0m\u001b[0;34m(\u001b[0m\u001b[0;34m)\u001b[0m\u001b[0;34m\u001b[0m\u001b[0;34m\u001b[0m\u001b[0m\n",
            "\u001b[0;31mNameError\u001b[0m: name 'plt' is not defined"
          ]
        }
      ]
    },
    {
      "metadata": {
        "id": "bEMm6sM4nEk2",
        "colab_type": "code",
        "outputId": "9347e16b-eef4-4949-875f-92dbbdfd707c",
        "colab": {
          "base_uri": "https://localhost:8080/",
          "height": 347
        }
      },
      "cell_type": "code",
      "source": [
        "plot_image(x_test[1], shape=[32, 32], cmap = \"Greys_r\")"
      ],
      "execution_count": 0,
      "outputs": [
        {
          "output_type": "display_data",
          "data": {
            "image/png": "[encoded data removed]",
            "text/plain": [
              "<Figure size 576x396 with 1 Axes>"
            ]
          },
          "metadata": {
            "tags": []
          }
        }
      ]
    },
    {
      "metadata": {
        "id": "IAOjf3gAkIvt",
        "colab_type": "text"
      },
      "cell_type": "markdown",
      "source": [
        ""
      ]
    },
    {
      "metadata": {
        "id": "Lc9OabVHmEQG",
        "colab_type": "code",
        "colab": {}
      },
      "cell_type": "code",
      "source": [
        "def plot_image(image, shape=[32, 32], cmap = \"Greys_r\"):\n",
        "    plt.imshow(image.reshape(shape), cmap=cmap,interpolation=\"nearest\")\n",
        "    plt.axis(\"off\")   "
      ],
      "execution_count": 0,
      "outputs": []
    },
    {
      "metadata": {
        "id": "L9S1SoF9lhWh",
        "colab_type": "code",
        "outputId": "b9d8db69-e23f-4137-9725-c7e89890a436",
        "colab": {
          "base_uri": "https://localhost:8080/",
          "height": 5679
        }
      },
      "cell_type": "code",
      "source": [
        "## Parameters\n",
        "\n",
        "n_inputs = 32*32\n",
        "BATCH_SIZE = 150\n",
        "\n",
        "# using a placeholder\n",
        "\n",
        "#x = tf.placeholder(tf.float32, shape = [None, n_inputs])\n",
        "x_noisy = tf.placeholder(tf.float32, shape = [None, n_inputs])\n",
        "\n",
        "## Encoder\n",
        "n_hidden_1 = 512\n",
        "n_hidden_2 = 256\n",
        "\n",
        "## Code\n",
        "n_hidden_3 = 128\n",
        "\n",
        "n_latent = 128\n",
        "\n",
        "## Decodern_hidden_3 = 128\n",
        "\n",
        "\n",
        "n_hidden_4 = n_hidden_2\n",
        "n_hidden_5 = n_hidden_1\n",
        "n_outputs = n_inputs\n",
        "\n",
        "learning_rate = 0.0001\n",
        "\n",
        "# using a placeholder\n",
        "x = tf.placeholder(tf.float32, shape=[None,n_inputs])\n",
        "batch_size = tf.placeholder(tf.int64)\n",
        "## Dataset\n",
        "dataset = tf.data.Dataset.from_tensor_slices(x).repeat().batch(batch_size)\n",
        "iter = dataset.make_initializable_iterator() # create the iterator\n",
        "features = iter.get_next()\n",
        "\n",
        "## Define the Xavier initialization\n",
        "xav_init =  tf.contrib.layers.xavier_initializer()\n",
        "## Define the L2 regularizer\n",
        "l2_reg = 0.001\n",
        "l2_regularizer = tf.contrib.layers.l2_regularizer(l2_reg)\n",
        "\n",
        "## Create the dense layer\n",
        "dense_layer = partial(tf.layers.dense,\n",
        "                         activation=tf.nn.leaky_relu,\n",
        "                         kernel_initializer=xav_init,\n",
        "                         kernel_regularizer=l2_regularizer)\n",
        "\n",
        "# Network architecture\n",
        "\n",
        "hidden1 = dense_layer(inputs = features, units = n_hidden_1)\n",
        "hidden2 = dense_layer(inputs = hidden1, units = n_hidden_2)\n",
        "\n",
        "mn = dense_layer(inputs = hidden2, units=n_latent)\n",
        "sd = 0.5 * dense_layer(inputs = hidden2, units=n_latent)            \n",
        "epsilon = tf.random_normal(tf.stack([tf.shape(hidden2)[0], n_latent])) \n",
        "\n",
        "z = mn + tf.multiply(epsilon, tf.exp(sd))\n",
        "\n",
        "#hidden3 = dense_layer(inputs = hidden2, units = n_hidden_3)\n",
        "hidden4 = dense_layer(inputs = z, units = n_hidden_4)\n",
        "hidden5 = dense_layer(inputs = hidden4, units = n_hidden_5)\n",
        "output =  dense_layer(inputs = hidden5, units = n_outputs, activation = tf.nn.sigmoid)\n",
        "\n",
        "# Loss\n",
        "\n",
        "img_loss = tf.reduce_sum(tf.squared_difference(output, features), 1)\n",
        "\n",
        "#img_loss = tf.square(output-features)\n",
        "#latent_loss = -0.5 * tf.reduce_sum(1.0 + 2.0 * sd - tf.square(mn) - tf.exp(2.0 * sd), 1)\n",
        "latent_loss = -0.5 * tf.reduce_sum(1 + tf.log(sd) - mn** 2 - sd, 1)\n",
        "loss = tf.reduce_mean(img_loss+ latent_loss)\n",
        "\n",
        "#loss=tf.reduce_mean(tf.square(output-features))\n",
        "optimizer = tf.train.AdamOptimizer(learning_rate)\n",
        "train  = optimizer.minimize(loss)\n",
        "\n",
        "num_epoch = 1000\n",
        "\n",
        "## Call Saver to save the model and re-use it later during evaluation\n",
        "saver = tf.train.Saver()\n",
        "\n",
        "\n",
        "with tf.Session() as sess:\n",
        "  sess.run(tf.global_variables_initializer())\n",
        "  sess.run(iter.initializer, feed_dict={x: x_train, batch_size: BATCH_SIZE})\n",
        "  \n",
        "  print('Training...')\n",
        "  print(sess.run(features).shape)\n",
        "  \n",
        "  for epoch in range(num_epoch):   \n",
        "    \n",
        "    num_batches = x_train.shape[0]//BATCH_SIZE\n",
        "\n",
        "    for iteration in range(num_batches):\n",
        "      sess.run(train)\n",
        "    \n",
        "    train_loss=loss.eval()\n",
        "    print(\"epoch {} loss {}\".format(epoch,train_loss))\n",
        "  save_path = saver.save(sess, \"./model.ckpt\")    \n",
        "  print(\"Model saved in path: %s\" % save_path)  \n",
        "  \n",
        "  \n",
        "  #num_test_images = 10\n",
        "\n",
        "  #results = output.eval(feed_dict={x:x_train[:num_test_images]})\n",
        "    \n",
        "  #f,a=plt.subplots(2,10,figsize=(20,4))\n",
        "  #for i in range(num_test_images):\n",
        "   # a[0][i].imshow(np.reshape( x_train[i],(32,32)), cmap = \"Greys_r\",interpolation=\"nearest\")\n",
        "   # a[1][i].imshow(np.reshape(results[i],(32,32)), cmap = \"Greys_r\",interpolation=\"nearest\")"
      ],
      "execution_count": 0,
      "outputs": [
        {
          "output_type": "stream",
          "text": [
            "Training...\n",
            "(150, 1024)\n",
            "epoch 0 loss 0.059081241488456726\n",
            "epoch 1 loss 0.05322908237576485\n",
            "epoch 2 loss 0.04511801898479462\n",
            "epoch 3 loss 0.039458438754081726\n",
            "epoch 4 loss 0.03806702420115471\n",
            "epoch 5 loss 0.03319423645734787\n",
            "epoch 6 loss 0.033164653927087784\n",
            "epoch 7 loss 0.029769230633974075\n",
            "epoch 8 loss 0.027658220380544662\n",
            "epoch 9 loss 0.026588795706629753\n",
            "epoch 10 loss 0.025849921628832817\n",
            "epoch 11 loss 0.02319634146988392\n",
            "epoch 12 loss 0.02360379509627819\n",
            "epoch 13 loss 0.022183774039149284\n",
            "epoch 14 loss 0.022004880011081696\n",
            "epoch 15 loss 0.020138908177614212\n",
            "epoch 16 loss 0.019730478525161743\n",
            "epoch 17 loss 0.02002502605319023\n",
            "epoch 18 loss 0.020253151655197144\n",
            "epoch 19 loss 0.02050328627228737\n",
            "epoch 20 loss 0.019148562103509903\n",
            "epoch 21 loss 0.01802530698478222\n",
            "epoch 22 loss 0.0197722427546978\n",
            "epoch 23 loss 0.018840253353118896\n",
            "epoch 24 loss 0.021121952682733536\n",
            "epoch 25 loss 0.018820377066731453\n",
            "epoch 26 loss 0.018538033589720726\n",
            "epoch 27 loss 0.01807769201695919\n",
            "epoch 28 loss 0.01705244556069374\n",
            "epoch 29 loss 0.018358875066041946\n",
            "epoch 30 loss 0.01862960495054722\n",
            "epoch 31 loss 0.01521255448460579\n",
            "epoch 32 loss 0.015550163574516773\n",
            "epoch 33 loss 0.016379378736019135\n",
            "epoch 34 loss 0.01664879359304905\n",
            "epoch 35 loss 0.01652122475206852\n",
            "epoch 36 loss 0.015445820055902004\n",
            "epoch 37 loss 0.015885908156633377\n",
            "epoch 38 loss 0.016935711726546288\n",
            "epoch 39 loss 0.015212081372737885\n",
            "epoch 40 loss 0.014612339437007904\n",
            "epoch 41 loss 0.01441175490617752\n",
            "epoch 42 loss 0.014282402582466602\n",
            "epoch 43 loss 0.014432177878916264\n",
            "epoch 44 loss 0.014389533549547195\n",
            "epoch 45 loss 0.015007552690804005\n",
            "epoch 46 loss 0.01527897547930479\n",
            "epoch 47 loss 0.014442495070397854\n",
            "epoch 48 loss 0.01422629039734602\n",
            "epoch 49 loss 0.014860870316624641\n",
            "epoch 50 loss 0.014513746835291386\n",
            "epoch 51 loss 0.01462786365300417\n",
            "epoch 52 loss 0.015067526139318943\n",
            "epoch 53 loss 0.013893543742597103\n",
            "epoch 54 loss 0.01346335094422102\n",
            "epoch 55 loss 0.013055502437055111\n",
            "epoch 56 loss 0.014548190869390965\n",
            "epoch 57 loss 0.01413368247449398\n",
            "epoch 58 loss 0.013998029753565788\n",
            "epoch 59 loss 0.01429571770131588\n",
            "epoch 60 loss 0.013100598007440567\n",
            "epoch 61 loss 0.012606325559318066\n",
            "epoch 62 loss 0.012840349227190018\n",
            "epoch 63 loss 0.013399974443018436\n",
            "epoch 64 loss 0.012911040335893631\n",
            "epoch 65 loss 0.012342911213636398\n",
            "epoch 66 loss 0.01236157026141882\n",
            "epoch 67 loss 0.013350104913115501\n",
            "epoch 68 loss 0.01301476638764143\n",
            "epoch 69 loss 0.013563998974859715\n",
            "epoch 70 loss 0.012355230748653412\n",
            "epoch 71 loss 0.011838194914162159\n",
            "epoch 72 loss 0.012747686356306076\n",
            "epoch 73 loss 0.012499119155108929\n",
            "epoch 74 loss 0.011828129179775715\n",
            "epoch 75 loss 0.012743881903588772\n",
            "epoch 76 loss 0.011976941488683224\n",
            "epoch 77 loss 0.01262577809393406\n",
            "epoch 78 loss 0.01204983051866293\n",
            "epoch 79 loss 0.012836947105824947\n",
            "epoch 80 loss 0.011897042393684387\n",
            "epoch 81 loss 0.011210611090064049\n",
            "epoch 82 loss 0.01144567783921957\n",
            "epoch 83 loss 0.011881320737302303\n",
            "epoch 84 loss 0.011992803774774075\n",
            "epoch 85 loss 0.012010646052658558\n",
            "epoch 86 loss 0.011285671032965183\n",
            "epoch 87 loss 0.011843126267194748\n",
            "epoch 88 loss 0.012290436774492264\n",
            "epoch 89 loss 0.011492743156850338\n",
            "epoch 90 loss 0.011335732415318489\n",
            "epoch 91 loss 0.010994942858815193\n",
            "epoch 92 loss 0.011279000900685787\n",
            "epoch 93 loss 0.011173716746270657\n",
            "epoch 94 loss 0.011313371360301971\n",
            "epoch 95 loss 0.011613043025135994\n",
            "epoch 96 loss 0.011706474237143993\n",
            "epoch 97 loss 0.011462703347206116\n",
            "epoch 98 loss 0.01143325213342905\n",
            "epoch 99 loss 0.012134423479437828\n",
            "epoch 100 loss 0.011762532405555248\n",
            "epoch 101 loss 0.011770174838602543\n",
            "epoch 102 loss 0.011832118965685368\n",
            "epoch 103 loss 0.011255827732384205\n",
            "epoch 104 loss 0.011308264918625355\n",
            "epoch 105 loss 0.010779758915305138\n",
            "epoch 106 loss 0.011615743860602379\n",
            "epoch 107 loss 0.011731214821338654\n",
            "epoch 108 loss 0.010915523394942284\n",
            "epoch 109 loss 0.011047102510929108\n",
            "epoch 110 loss 0.010878734290599823\n",
            "epoch 111 loss 0.010209616273641586\n",
            "epoch 112 loss 0.010623137466609478\n",
            "epoch 113 loss 0.010545552708208561\n",
            "epoch 114 loss 0.010710066184401512\n",
            "epoch 115 loss 0.010324165225028992\n",
            "epoch 116 loss 0.01056949608027935\n",
            "epoch 117 loss 0.010632802732288837\n",
            "epoch 118 loss 0.011083042249083519\n",
            "epoch 119 loss 0.011355888098478317\n",
            "epoch 120 loss 0.010464373044669628\n",
            "epoch 121 loss 0.009779631160199642\n",
            "epoch 122 loss 0.010747457854449749\n",
            "epoch 123 loss 0.010711617767810822\n",
            "epoch 124 loss 0.010037253610789776\n",
            "epoch 125 loss 0.01074491161853075\n",
            "epoch 126 loss 0.010409828275442123\n",
            "epoch 127 loss 0.01126053649932146\n",
            "epoch 128 loss 0.010238958522677422\n",
            "epoch 129 loss 0.010815195739269257\n",
            "epoch 130 loss 0.009968630969524384\n",
            "epoch 131 loss 0.009967758320271969\n",
            "epoch 132 loss 0.009927010163664818\n",
            "epoch 133 loss 0.00994804222136736\n",
            "epoch 134 loss 0.010167497210204601\n",
            "epoch 135 loss 0.010433844290673733\n",
            "epoch 136 loss 0.009776477701961994\n",
            "epoch 137 loss 0.010349406860768795\n",
            "epoch 138 loss 0.010657170787453651\n",
            "epoch 139 loss 0.010024387389421463\n",
            "epoch 140 loss 0.009851002134382725\n",
            "epoch 141 loss 0.009307127445936203\n",
            "epoch 142 loss 0.009525475092232227\n",
            "epoch 143 loss 0.009950995445251465\n",
            "epoch 144 loss 0.009937163442373276\n",
            "epoch 145 loss 0.010084561072289944\n",
            "epoch 146 loss 0.010064073838293552\n",
            "epoch 147 loss 0.009999347850680351\n",
            "epoch 148 loss 0.010063108056783676\n",
            "epoch 149 loss 0.01063853595405817\n",
            "epoch 150 loss 0.01027287170290947\n",
            "epoch 151 loss 0.010199939832091331\n",
            "epoch 152 loss 0.01021137647330761\n",
            "epoch 153 loss 0.009883901104331017\n",
            "epoch 154 loss 0.009719992987811565\n",
            "epoch 155 loss 0.009380529634654522\n",
            "epoch 156 loss 0.010137769393622875\n",
            "epoch 157 loss 0.010342950001358986\n",
            "epoch 158 loss 0.009512919932603836\n",
            "epoch 159 loss 0.009687515906989574\n",
            "epoch 160 loss 0.009623341262340546\n",
            "epoch 161 loss 0.009336964227259159\n",
            "epoch 162 loss 0.00931030698120594\n",
            "epoch 163 loss 0.009407452307641506\n",
            "epoch 164 loss 0.009301821701228619\n",
            "epoch 165 loss 0.009165534749627113\n",
            "epoch 166 loss 0.009167252108454704\n",
            "epoch 167 loss 0.009608245454728603\n",
            "epoch 168 loss 0.009874806739389896\n",
            "epoch 169 loss 0.009816562756896019\n",
            "epoch 170 loss 0.009829023852944374\n",
            "epoch 171 loss 0.008741169236600399\n",
            "epoch 172 loss 0.009555562399327755\n",
            "epoch 173 loss 0.009677812457084656\n",
            "epoch 174 loss 0.008889821358025074\n",
            "epoch 175 loss 0.009488585405051708\n",
            "epoch 176 loss 0.009249280206859112\n",
            "epoch 177 loss 0.009716253727674484\n",
            "epoch 178 loss 0.009125808253884315\n",
            "epoch 179 loss 0.0098505150526762\n",
            "epoch 180 loss 0.00892936997115612\n",
            "epoch 181 loss 0.008624066598713398\n",
            "epoch 182 loss 0.008929596282541752\n",
            "epoch 183 loss 0.008869152516126633\n",
            "epoch 184 loss 0.009125209413468838\n",
            "epoch 185 loss 0.009517834521830082\n",
            "epoch 186 loss 0.008856185711920261\n",
            "epoch 187 loss 0.00927369762212038\n",
            "epoch 188 loss 0.009440152905881405\n",
            "epoch 189 loss 0.009149735793471336\n",
            "epoch 190 loss 0.008796537294983864\n",
            "epoch 191 loss 0.008816331624984741\n",
            "epoch 192 loss 0.008649135008454323\n",
            "epoch 193 loss 0.008804849348962307\n",
            "epoch 194 loss 0.008982132188975811\n",
            "epoch 195 loss 0.009081656113266945\n",
            "epoch 196 loss 0.009071385487914085\n",
            "epoch 197 loss 0.009072787128388882\n",
            "epoch 198 loss 0.008902180939912796\n",
            "epoch 199 loss 0.00971274171024561\n",
            "epoch 200 loss 0.009088232181966305\n",
            "epoch 201 loss 0.009233333170413971\n",
            "epoch 202 loss 0.00930547621101141\n",
            "epoch 203 loss 0.009203435853123665\n",
            "epoch 204 loss 0.008752044290304184\n",
            "epoch 205 loss 0.00871049240231514\n",
            "epoch 206 loss 0.009758559986948967\n",
            "epoch 207 loss 0.00931958481669426\n",
            "epoch 208 loss 0.008816618472337723\n",
            "epoch 209 loss 0.009105619974434376\n",
            "epoch 210 loss 0.009064368903636932\n",
            "epoch 211 loss 0.008192437700927258\n",
            "epoch 212 loss 0.008861047215759754\n",
            "epoch 213 loss 0.008537069894373417\n",
            "epoch 214 loss 0.008629710413515568\n",
            "epoch 215 loss 0.008324905298650265\n",
            "epoch 216 loss 0.008815280161798\n",
            "epoch 217 loss 0.008366377092897892\n",
            "epoch 218 loss 0.009188138879835606\n",
            "epoch 219 loss 0.008959040977060795\n",
            "epoch 220 loss 0.008533804677426815\n",
            "epoch 221 loss 0.00798836350440979\n",
            "epoch 222 loss 0.009027181193232536\n",
            "epoch 223 loss 0.00870902743190527\n",
            "epoch 224 loss 0.008180111646652222\n",
            "epoch 225 loss 0.008662649430334568\n",
            "epoch 226 loss 0.008304140530526638\n",
            "epoch 227 loss 0.008907700888812542\n",
            "epoch 228 loss 0.00831806380301714\n",
            "epoch 229 loss 0.00881365966051817\n",
            "epoch 230 loss 0.008365251123905182\n",
            "epoch 231 loss 0.008026695810258389\n",
            "epoch 232 loss 0.008349857293069363\n",
            "epoch 233 loss 0.008165926672518253\n",
            "epoch 234 loss 0.008494958281517029\n",
            "epoch 235 loss 0.008800789713859558\n",
            "epoch 236 loss 0.008261091075837612\n",
            "epoch 237 loss 0.008522175252437592\n",
            "epoch 238 loss 0.008654803037643433\n",
            "epoch 239 loss 0.008427957072854042\n",
            "epoch 240 loss 0.008349311538040638\n",
            "epoch 241 loss 0.008156990632414818\n",
            "epoch 242 loss 0.008092571049928665\n",
            "epoch 243 loss 0.008285784162580967\n",
            "epoch 244 loss 0.008375441655516624\n",
            "epoch 245 loss 0.00840894877910614\n",
            "epoch 246 loss 0.008390001952648163\n",
            "epoch 247 loss 0.008398499339818954\n",
            "epoch 248 loss 0.008224327117204666\n",
            "epoch 249 loss 0.008969048969447613\n",
            "epoch 250 loss 0.008408877067267895\n",
            "epoch 251 loss 0.008522159419953823\n",
            "epoch 252 loss 0.008573189377784729\n",
            "epoch 253 loss 0.008423279039561749\n",
            "epoch 254 loss 0.008170634508132935\n",
            "epoch 255 loss 0.007963251322507858\n",
            "epoch 256 loss 0.008516826666891575\n",
            "epoch 257 loss 0.00867696013301611\n",
            "epoch 258 loss 0.00817595049738884\n",
            "epoch 259 loss 0.008222794160246849\n",
            "epoch 260 loss 0.008060555905103683\n",
            "epoch 261 loss 0.008030783385038376\n",
            "epoch 262 loss 0.007943377830088139\n",
            "epoch 263 loss 0.00789683312177658\n",
            "epoch 264 loss 0.007931296713650227\n",
            "epoch 265 loss 0.007817569188773632\n",
            "epoch 266 loss 0.00780800124630332\n",
            "epoch 267 loss 0.007887627929449081\n",
            "epoch 268 loss 0.008452525362372398\n",
            "epoch 269 loss 0.008600655011832714\n",
            "epoch 270 loss 0.008060870692133904\n",
            "epoch 271 loss 0.0075324950739741325\n",
            "epoch 272 loss 0.008190647698938847\n",
            "epoch 273 loss 0.00816069170832634\n",
            "epoch 274 loss 0.007709247060120106\n",
            "epoch 275 loss 0.008035517297685146\n",
            "epoch 276 loss 0.007855604402720928\n",
            "epoch 277 loss 0.008249054662883282\n",
            "epoch 278 loss 0.007842413149774075\n",
            "epoch 279 loss 0.008256134577095509\n",
            "epoch 280 loss 0.007725471630692482\n",
            "epoch 281 loss 0.007520635146647692\n",
            "epoch 282 loss 0.007747461088001728\n",
            "epoch 283 loss 0.007741888985037804\n",
            "epoch 284 loss 0.007952431216835976\n",
            "epoch 285 loss 0.008202004246413708\n",
            "epoch 286 loss 0.007694057654589415\n",
            "epoch 287 loss 0.007976314052939415\n",
            "epoch 288 loss 0.00814062636345625\n",
            "epoch 289 loss 0.007948020473122597\n",
            "epoch 290 loss 0.007647810969501734\n",
            "epoch 291 loss 0.007378163281828165\n",
            "epoch 292 loss 0.007517111953347921\n",
            "epoch 293 loss 0.007715603336691856\n",
            "epoch 294 loss 0.007796028628945351\n",
            "epoch 295 loss 0.007947204634547234\n",
            "epoch 296 loss 0.008123159408569336\n",
            "epoch 297 loss 0.008204719983041286\n",
            "epoch 298 loss 0.0077313329093158245\n",
            "epoch 299 loss 0.008468090556561947\n",
            "epoch 300 loss 0.007939078845083714\n",
            "epoch 301 loss 0.008034353144466877\n",
            "epoch 302 loss 0.008055689744651318\n",
            "epoch 303 loss 0.007940541952848434\n",
            "epoch 304 loss 0.007647795602679253\n",
            "epoch 305 loss 0.007477194536477327\n",
            "epoch 306 loss 0.007987994700670242\n",
            "epoch 307 loss 0.008129599504172802\n",
            "epoch 308 loss 0.00778581527993083\n",
            "epoch 309 loss 0.007783109322190285\n",
            "epoch 310 loss 0.007732116151601076\n",
            "epoch 311 loss 0.007175550330430269\n",
            "epoch 312 loss 0.007492105010896921\n",
            "epoch 313 loss 0.007486293092370033\n",
            "epoch 314 loss 0.007491993717849255\n",
            "epoch 315 loss 0.007315796799957752\n",
            "epoch 316 loss 0.007384473457932472\n",
            "epoch 317 loss 0.007392922416329384\n",
            "epoch 318 loss 0.007898125797510147\n",
            "epoch 319 loss 0.008279836736619473\n",
            "epoch 320 loss 0.0075568645261228085\n",
            "epoch 321 loss 0.007065086159855127\n",
            "epoch 322 loss 0.007746712304651737\n",
            "epoch 323 loss 0.0076835062354803085\n"
          ],
          "name": "stdout"
        }
      ]
    },
    {
      "metadata": {
        "id": "ATDIevXF3b3i",
        "colab_type": "code",
        "colab": {}
      },
      "cell_type": "code",
      "source": [
        "def reconstruct_image(df, image_number = 1):\n",
        "    ## Part 1: Reshape the image to the correct dimension i.e 1, 1024\n",
        "    x_test = df[image_number]\n",
        "    x_test_1 = x_test.reshape((1, 32*32))\n",
        "    \n",
        "    ## Part 2: Feed the model with the unseen image, encode/decode the image\n",
        "    with tf.Session() as sess:     \n",
        "        sess.run(tf.global_variables_initializer()) \n",
        "        sess.run(iter.initializer, feed_dict={x: x_test_1,\n",
        "                                      batch_size: 1})\n",
        "    ## Part 3:  Print the real and reconstructed image\n",
        "      # Restore variables from disk.\n",
        "        saver.restore(sess, \"./model.ckpt\")  \n",
        "        print(\"Model restored.\")\n",
        "      # Reconstruct image\n",
        "        outputs_val = output.eval()\n",
        "        print(outputs_val.shape)\n",
        "        fig = plt.figure()\n",
        "      # Plot real\n",
        "        ax1 = fig.add_subplot(121)\n",
        "        plot_image(x_test_1, shape=[32, 32], cmap = \"Greys_r\")\n",
        "      # Plot estimated\n",
        "        ax2 = fig.add_subplot(122)\n",
        "        plot_image(outputs_val, shape=[32, 32], cmap = \"Greys_r\")\n",
        "        plt.tight_layout()\n",
        "        fig = plt.gcf()\n",
        "        \n",
        "        "
      ],
      "execution_count": 0,
      "outputs": []
    },
    {
      "metadata": {
        "id": "xedPD4tT3drI",
        "colab_type": "code",
        "outputId": "2f26863b-5b39-4527-be33-9a0fb7146dad",
        "colab": {
          "base_uri": "https://localhost:8080/",
          "height": 350
        }
      },
      "cell_type": "code",
      "source": [
        "reconstruct_image(df = x_test, image_number = 2)\t"
      ],
      "execution_count": 0,
      "outputs": [
        {
          "output_type": "stream",
          "text": [
            "INFO:tensorflow:Restoring parameters from ./model.ckpt\n",
            "Model restored.\n",
            "(1, 1024)\n"
          ],
          "name": "stdout"
        },
        {
          "output_type": "display_data",
          "data": {
            "image/png": "[encoded data removed]",
            "text/plain": [
              "<Figure size 576x396 with 2 Axes>"
            ]
          },
          "metadata": {
            "tags": []
          }
        }
      ]
    }
  ]
}