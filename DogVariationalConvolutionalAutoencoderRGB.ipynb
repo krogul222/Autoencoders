{
  "nbformat": 4,
  "nbformat_minor": 0,
  "metadata": {
    "colab": {
      "name": "DogVariationalConvolutionalAutoencoderRGB.ipynb",
      "version": "0.3.2",
      "provenance": [],
      "collapsed_sections": [],
      "include_colab_link": true
    },
    "kernelspec": {
      "name": "python3",
      "display_name": "Python 3"
    },
    "accelerator": "GPU"
  },
  "cells": [
    {
      "cell_type": "markdown",
      "metadata": {
        "id": "view-in-github",
        "colab_type": "text"
      },
      "source": [
        "<a href=\"https://colab.research.google.com/github/krogul222/Autoencoders/blob/master/DogVariationalConvolutionalAutoencoderRGB.ipynb\" target=\"_parent\"><img src=\"https://colab.research.google.com/assets/colab-badge.svg\" alt=\"Open In Colab\"/></a>"
      ]
    },
    {
      "metadata": {
        "id": "25Al1RrJSfwR",
        "colab_type": "code",
        "colab": {}
      },
      "cell_type": "code",
      "source": [
        "import tensorflow as tf\n",
        "from tensorflow import keras\n",
        "import numpy as np\n",
        "import matplotlib.pyplot as plt\n",
        "import pandas as pd\n",
        "from functools import partial\n"
      ],
      "execution_count": 0,
      "outputs": []
    },
    {
      "metadata": {
        "id": "lCfYsEjBcYmt",
        "colab_type": "code",
        "outputId": "24b1fcdf-f213-480e-ce6f-ea5e9d17ed9d",
        "colab": {
          "base_uri": "https://localhost:8080/",
          "height": 36
        }
      },
      "cell_type": "code",
      "source": [
        "device_name = tf.test.gpu_device_name()\n",
        "if device_name != '/device:GPU:0':\n",
        "  raise SystemError('GPU device not found')\n",
        "print('Found GPU at: {}'.format(device_name))"
      ],
      "execution_count": 0,
      "outputs": [
        {
          "output_type": "stream",
          "text": [
            "Found GPU at: /device:GPU:0\n"
          ],
          "name": "stdout"
        }
      ]
    },
    {
      "metadata": {
        "id": "9n6CwxD9VPM6",
        "colab_type": "code",
        "outputId": "097ff0d1-2e6c-456a-c9fd-fc0efc737137",
        "colab": {
          "base_uri": "https://localhost:8080/",
          "height": 55
        }
      },
      "cell_type": "code",
      "source": [
        "(x_train, y_train), (x_test, y_test) = tf.keras.datasets.cifar10.load_data()"
      ],
      "execution_count": 0,
      "outputs": [
        {
          "output_type": "stream",
          "text": [
            "Downloading data from https://www.cs.toronto.edu/~kriz/cifar-10-python.tar.gz\n",
            "170500096/170498071 [==============================] - 40s 0us/step\n"
          ],
          "name": "stdout"
        }
      ]
    },
    {
      "metadata": {
        "id": "BO1X0NoDVcJ9",
        "colab_type": "code",
        "outputId": "2bfea797-41e5-4b04-a95a-e5d3357f0c5b",
        "colab": {
          "base_uri": "https://localhost:8080/",
          "height": 55
        }
      },
      "cell_type": "code",
      "source": [
        "#n_inputs = 32*32\n",
        "\n",
        "print(np.shape(x_train))\n",
        "\n",
        "x_train = x_train/255\n",
        "x_test = x_test/255\n",
        "\n",
        "x_train_dog_i = np.where(y_train == 5)[0]\n",
        "x_test_dog_i = np.where(y_test == 5)[0]\n",
        "\n",
        "x_train = x_train[x_train_dog_i]\n",
        "x_test = x_test[x_test_dog_i]\n",
        "\n",
        "print(np.shape(x_train)) "
      ],
      "execution_count": 0,
      "outputs": [
        {
          "output_type": "stream",
          "text": [
            "(50000, 32, 32, 3)\n",
            "(5000, 32, 32, 3)\n"
          ],
          "name": "stdout"
        }
      ]
    },
    {
      "metadata": {
        "id": "174gQSzbwtw6",
        "colab_type": "code",
        "colab": {}
      },
      "cell_type": "code",
      "source": [
        ""
      ],
      "execution_count": 0,
      "outputs": []
    },
    {
      "metadata": {
        "id": "T_R6AhEejjO5",
        "colab_type": "code",
        "colab": {}
      },
      "cell_type": "code",
      "source": [
        "def plot_image(image):\n",
        "    plt.imshow(image)\n",
        "    plt.axis(\"off\")  "
      ],
      "execution_count": 0,
      "outputs": []
    },
    {
      "metadata": {
        "id": "5MiZywn5V21z",
        "colab_type": "code",
        "outputId": "36e5ce0f-1ca9-4dee-9ba8-3f2bfa71f74c",
        "colab": {
          "base_uri": "https://localhost:8080/",
          "height": 89
        }
      },
      "cell_type": "code",
      "source": [
        "# looping through the first 10 test images and printing  them out\n",
        "\n",
        "for i in range(10):\n",
        "    plt.subplot(1, 10, i+1)\n",
        "    plot_image(x_train[i])\n",
        "plt.show()"
      ],
      "execution_count": 0,
      "outputs": [
        {
          "output_type": "display_data",
          "data": {
            "image/png": "[encoded data removed]",
            "text/plain": [
              "<Figure size 576x396 with 10 Axes>"
            ]
          },
          "metadata": {
            "tags": []
          }
        }
      ]
    },
    {
      "metadata": {
        "id": "bEMm6sM4nEk2",
        "colab_type": "code",
        "outputId": "8657e8a2-d308-43c2-e86b-53bc48531481",
        "colab": {
          "base_uri": "https://localhost:8080/",
          "height": 347
        }
      },
      "cell_type": "code",
      "source": [
        "plot_image(x_test[1])"
      ],
      "execution_count": 0,
      "outputs": [
        {
          "output_type": "display_data",
          "data": {
            "image/png": "[encoded data removed]",
            "text/plain": [
              "<Figure size 576x396 with 1 Axes>"
            ]
          },
          "metadata": {
            "tags": []
          }
        }
      ]
    },
    {
      "metadata": {
        "id": "IAOjf3gAkIvt",
        "colab_type": "text"
      },
      "cell_type": "markdown",
      "source": [
        ""
      ]
    },
    {
      "metadata": {
        "id": "L9S1SoF9lhWh",
        "colab_type": "code",
        "outputId": "46b2ace4-801a-426a-99ae-a2611ca49ad3",
        "colab": {
          "base_uri": "https://localhost:8080/",
          "height": 9507
        }
      },
      "cell_type": "code",
      "source": [
        "\n",
        "\n",
        "## Parameters\n",
        "\n",
        "n_inputs = 32\n",
        "BATCH_SIZE = 150\n",
        "\n",
        "# using a placeholder\n",
        "\n",
        "learning_rate = 0.001\n",
        "\n",
        "n_latent = 128*3\n",
        "\n",
        "## Define the Xavier initialization\n",
        "xav_init =  tf.contrib.layers.xavier_initializer()\n",
        "## Define the L2 regularizer\n",
        "l2_reg = 0.01\n",
        "l2_regularizer = tf.contrib.layers.l2_regularizer(l2_reg)\n",
        "\n",
        "## Create the dense layer\n",
        "dense_layer = partial(tf.layers.dense,\n",
        "                         activation=tf.nn.leaky_relu,\n",
        "                         kernel_initializer=xav_init,\n",
        "                         kernel_regularizer=l2_regularizer)\n",
        "\n",
        "# using a placeholder\n",
        "x = tf.placeholder(tf.float32, shape=[None,n_inputs, n_inputs, 3])\n",
        "batch_size = tf.placeholder(tf.int64)\n",
        "## Dataset\n",
        "dataset = tf.data.Dataset.from_tensor_slices(x).repeat().batch(batch_size)\n",
        "iter = dataset.make_initializable_iterator() # create the iterator\n",
        "features = iter.get_next()\n",
        "\n",
        "#Encoder\n",
        "\n",
        "# Convolutional Layer #1\n",
        "e_conv1 = tf.layers.conv2d(inputs=features, filters=32, kernel_size=[5, 5], padding=\"same\", activation=tf.nn.relu, kernel_initializer=xav_init, kernel_regularizer=l2_regularizer)   # Input: [32,32,3];  Output: [32,32,32]\n",
        "\n",
        "# Pooling Layer #1\n",
        "e_pool1 = tf.layers.max_pooling2d(inputs=e_conv1, pool_size=[2, 2], strides=2) # Input: [32,32,32];  Output: [16,16,32]\n",
        "\n",
        "# Convolutional Layer #2 and Pooling Layer #2\n",
        "e_conv2 = tf.layers.conv2d(inputs=e_pool1, filters=16, kernel_size=[5, 5], padding=\"same\", activation=tf.nn.relu, kernel_initializer=xav_init, kernel_regularizer=l2_regularizer) # Input: [16,16,32];  Output: [16,16,16]\n",
        "e_pool2 = tf.layers.max_pooling2d(inputs=e_conv2, pool_size=[2, 2], strides=2) # Input: [16,16,16];  Output: [8,8,16]\n",
        "\n",
        "e_conv3 = tf.layers.conv2d(inputs=e_pool2, filters=24, kernel_size=[5, 5], padding=\"same\", activation=tf.nn.relu, kernel_initializer=xav_init, kernel_regularizer=l2_regularizer) # Input: [8,8,16];  Output: [8,8,24]\n",
        "e_pool3 = tf.layers.max_pooling2d(inputs=e_conv2, pool_size=[2, 2], strides=2) # Input: [8,8,24];  Output: [4,4,24]\n",
        "\n",
        "flat = tf.layers.flatten(e_conv3)\n",
        "\n",
        "#flat = tf.reshape(e_pool3, shape=[-1,1])\n",
        "\n",
        "mn = dense_layer(inputs = flat, units=n_latent)\n",
        "sd = 0.5 * dense_layer(inputs = flat, units=n_latent)            \n",
        "epsilon = tf.random_normal(tf.stack([tf.shape(flat)[0], n_latent])) \n",
        "\n",
        "z = mn + tf.multiply(epsilon, tf.exp(sd))\n",
        "\n",
        "post_z = dense_layer(inputs = z, units = n_latent)\n",
        "\n",
        "post_z = tf.reshape(post_z, shape=[-1, 4, 4, 24])\n",
        "\n",
        "\n",
        "#Decoder\n",
        "d_conv1 = tf.layers.conv2d(inputs=post_z, filters=24, kernel_size=[5, 5], padding=\"same\", activation=tf.nn.relu, kernel_initializer=xav_init, kernel_regularizer=l2_regularizer)\n",
        "d_upsampling1 = tf.image.resize_images(images=d_conv1, size=(8, 8))\n",
        "\n",
        "d_conv2 = tf.layers.conv2d(inputs=post_z, filters=16, kernel_size=[5, 5], padding=\"same\", activation=tf.nn.relu, kernel_initializer=xav_init, kernel_regularizer=l2_regularizer)\n",
        "d_upsampling2 = tf.image.resize_images(images=d_conv2, size=(16, 16))\n",
        "\n",
        "d_conv3 = tf.layers.conv2d(inputs=d_upsampling2, filters=32, kernel_size=[5, 5], padding=\"same\", activation=tf.nn.relu, kernel_initializer=xav_init, kernel_regularizer=l2_regularizer)\n",
        "d_upsampling3 = tf.image.resize_images(images=d_conv3, size=(32, 32))\n",
        "\n",
        "#output = tf.layers.conv2d(inputs=d_upsampling3, filters=3, kernel_size=[5, 5], padding=\"same\", activation=tf.nn.sigmoid)\n",
        "flat2 = tf.layers.flatten(d_upsampling3)\n",
        "output = dense_layer(inputs = flat2, units=32*32*3, activation = tf.nn.sigmoid)\n",
        "# Loss\n",
        "\n",
        "img_loss = tf.reduce_sum(tf.squared_difference(output, tf.reshape(features,shape=[-1,32*32*3])), 1)\n",
        "latent_loss = -0.5 * tf.reduce_sum(1.0 + 2.0 * sd - tf.square(mn) - tf.exp(2.0 * sd), 1)\n",
        "loss = tf.reduce_mean(img_loss + 0.1*latent_loss)\n",
        "\n",
        "optimizer = tf.train.AdamOptimizer(learning_rate)\n",
        "train  = optimizer.minimize(loss)\n",
        "\n",
        "num_epoch = 500\n",
        "\n",
        "## Call Saver to save the model and re-use it later during evaluation\n",
        "saver = tf.train.Saver()\n",
        "\n",
        "\n",
        "with tf.Session() as sess:\n",
        "  sess.run(tf.global_variables_initializer())\n",
        "  sess.run(iter.initializer, feed_dict={x: x_train, batch_size: BATCH_SIZE})\n",
        "  \n",
        "  print('Training...')\n",
        "  print(sess.run(features).shape)\n",
        "  \n",
        "  for epoch in range(num_epoch):   \n",
        "    \n",
        "    num_batches = x_train.shape[0]//BATCH_SIZE\n",
        "\n",
        "    for iteration in range(num_batches):\n",
        "      sess.run(train)\n",
        "    \n",
        "    train_loss=loss.eval()\n",
        "    print(\"epoch {} loss {}\".format(epoch,train_loss))\n",
        "  save_path = saver.save(sess, \"./modelVCADog.ckpt\")    \n",
        "  print(\"Model saved in path: %s\" % save_path)  \n",
        "  \n",
        "  \n",
        "  #num_test_images = 10\n",
        "\n",
        "  #results = output.eval(feed_dict={x:x_train[:num_test_images]})\n",
        "    \n",
        "  #f,a=plt.subplots(2,10,figsize=(20,4))\n",
        "  #for i in range(num_test_images):\n",
        "   # a[0][i].imshow(np.reshape( x_train[i],(32,32)), cmap = \"Greys_r\",interpolation=\"nearest\")\n",
        "   # a[1][i].imshow(np.reshape(results[i],(32,32)), cmap = \"Greys_r\",interpolation=\"nearest\")"
      ],
      "execution_count": 0,
      "outputs": [
        {
          "output_type": "stream",
          "text": [
            "Training...\n",
            "(150, 32, 32, 3)\n",
            "epoch 0 loss 188.1709442138672\n",
            "epoch 1 loss 157.95103454589844\n",
            "epoch 2 loss 120.26499938964844\n",
            "epoch 3 loss 108.71310424804688\n",
            "epoch 4 loss 96.74445343017578\n",
            "epoch 5 loss 89.36670684814453\n",
            "epoch 6 loss 93.9360122680664\n",
            "epoch 7 loss 90.83329772949219\n",
            "epoch 8 loss 82.73703002929688\n",
            "epoch 9 loss 82.80709838867188\n",
            "epoch 10 loss 79.12303161621094\n",
            "epoch 11 loss 73.65267944335938\n",
            "epoch 12 loss 77.45341491699219\n",
            "epoch 13 loss 75.51724243164062\n",
            "epoch 14 loss 78.5661849975586\n",
            "epoch 15 loss 72.1200942993164\n",
            "epoch 16 loss 73.48746490478516\n",
            "epoch 17 loss 71.55923461914062\n",
            "epoch 18 loss 72.90745544433594\n",
            "epoch 19 loss 73.53577423095703\n",
            "epoch 20 loss 68.5677719116211\n",
            "epoch 21 loss 65.58497619628906\n",
            "epoch 22 loss 69.97522735595703\n",
            "epoch 23 loss 68.72383117675781\n",
            "epoch 24 loss 65.86449432373047\n",
            "epoch 25 loss 67.61685180664062\n",
            "epoch 26 loss 63.67109298706055\n",
            "epoch 27 loss 66.3564453125\n",
            "epoch 28 loss 66.1506576538086\n",
            "epoch 29 loss 65.56869506835938\n",
            "epoch 30 loss 62.0318489074707\n",
            "epoch 31 loss 60.1213264465332\n",
            "epoch 32 loss 59.682167053222656\n",
            "epoch 33 loss 60.27446746826172\n",
            "epoch 34 loss 60.778255462646484\n",
            "epoch 35 loss 62.09200668334961\n",
            "epoch 36 loss 58.6708984375\n",
            "epoch 37 loss 60.946998596191406\n",
            "epoch 38 loss 61.56270980834961\n",
            "epoch 39 loss 59.83820343017578\n",
            "epoch 40 loss 58.318763732910156\n",
            "epoch 41 loss 55.60688781738281\n",
            "epoch 42 loss 55.409603118896484\n",
            "epoch 43 loss 56.07423782348633\n",
            "epoch 44 loss 58.353572845458984\n",
            "epoch 45 loss 57.48515701293945\n",
            "epoch 46 loss 57.445587158203125\n",
            "epoch 47 loss 56.44847106933594\n",
            "epoch 48 loss 56.808319091796875\n",
            "epoch 49 loss 58.383365631103516\n",
            "epoch 50 loss 57.56835174560547\n",
            "epoch 51 loss 57.39990997314453\n",
            "epoch 52 loss 56.95856857299805\n",
            "epoch 53 loss 55.277408599853516\n",
            "epoch 54 loss 54.288848876953125\n",
            "epoch 55 loss 52.644283294677734\n",
            "epoch 56 loss 55.91959762573242\n",
            "epoch 57 loss 58.4140510559082\n",
            "epoch 58 loss 53.89083480834961\n",
            "epoch 59 loss 54.15070724487305\n",
            "epoch 60 loss 52.054691314697266\n",
            "epoch 61 loss 50.30007553100586\n",
            "epoch 62 loss 51.133758544921875\n",
            "epoch 63 loss 50.809024810791016\n",
            "epoch 64 loss 53.32240295410156\n",
            "epoch 65 loss 51.14772033691406\n",
            "epoch 66 loss 48.84273910522461\n",
            "epoch 67 loss 50.4437255859375\n",
            "epoch 68 loss 52.072357177734375\n",
            "epoch 69 loss 52.53290939331055\n",
            "epoch 70 loss 52.40140151977539\n",
            "epoch 71 loss 49.63101577758789\n",
            "epoch 72 loss 52.35015106201172\n",
            "epoch 73 loss 50.93130874633789\n",
            "epoch 74 loss 49.501426696777344\n",
            "epoch 75 loss 50.24899673461914\n",
            "epoch 76 loss 48.78533935546875\n",
            "epoch 77 loss 49.449501037597656\n",
            "epoch 78 loss 48.827327728271484\n",
            "epoch 79 loss 49.90166091918945\n",
            "epoch 80 loss 46.47578430175781\n",
            "epoch 81 loss 47.06202697753906\n",
            "epoch 82 loss 49.12495422363281\n",
            "epoch 83 loss 48.19633102416992\n",
            "epoch 84 loss 48.6837158203125\n",
            "epoch 85 loss 47.01199722290039\n",
            "epoch 86 loss 47.393104553222656\n",
            "epoch 87 loss 49.0380973815918\n",
            "epoch 88 loss 48.48356628417969\n",
            "epoch 89 loss 49.10466766357422\n",
            "epoch 90 loss 48.10968017578125\n",
            "epoch 91 loss 47.58269500732422\n",
            "epoch 92 loss 45.334007263183594\n",
            "epoch 93 loss 45.47975540161133\n",
            "epoch 94 loss 45.96586608886719\n",
            "epoch 95 loss 45.30492401123047\n",
            "epoch 96 loss 46.21049499511719\n",
            "epoch 97 loss 45.65607452392578\n",
            "epoch 98 loss 45.63389205932617\n",
            "epoch 99 loss 46.72243881225586\n",
            "epoch 100 loss 45.976837158203125\n",
            "epoch 101 loss 47.81718063354492\n",
            "epoch 102 loss 47.72200012207031\n",
            "epoch 103 loss 46.647361755371094\n",
            "epoch 104 loss 47.51607894897461\n",
            "epoch 105 loss 50.6486930847168\n",
            "epoch 106 loss 50.998435974121094\n",
            "epoch 107 loss 49.14205551147461\n",
            "epoch 108 loss 44.908748626708984\n",
            "epoch 109 loss 45.220558166503906\n",
            "epoch 110 loss 42.355411529541016\n",
            "epoch 111 loss 40.927642822265625\n",
            "epoch 112 loss 43.78858947753906\n",
            "epoch 113 loss 44.03400421142578\n",
            "epoch 114 loss 44.2115592956543\n",
            "epoch 115 loss 43.90872573852539\n",
            "epoch 116 loss 44.90644454956055\n",
            "epoch 117 loss 43.11092758178711\n",
            "epoch 118 loss 42.5211067199707\n",
            "epoch 119 loss 42.60340118408203\n",
            "epoch 120 loss 42.761409759521484\n",
            "epoch 121 loss 45.00534439086914\n",
            "epoch 122 loss 43.4028434753418\n",
            "epoch 123 loss 43.24882125854492\n",
            "epoch 124 loss 44.65642547607422\n",
            "epoch 125 loss 42.58205795288086\n",
            "epoch 126 loss 41.4111213684082\n",
            "epoch 127 loss 40.38264465332031\n",
            "epoch 128 loss 42.275794982910156\n",
            "epoch 129 loss 41.94831848144531\n",
            "epoch 130 loss 39.7235221862793\n",
            "epoch 131 loss 41.757171630859375\n",
            "epoch 132 loss 42.490291595458984\n",
            "epoch 133 loss 41.5910758972168\n",
            "epoch 134 loss 40.97891616821289\n",
            "epoch 135 loss 41.69430923461914\n",
            "epoch 136 loss 41.485042572021484\n",
            "epoch 137 loss 41.9930419921875\n",
            "epoch 138 loss 42.59915542602539\n",
            "epoch 139 loss 41.22307205200195\n",
            "epoch 140 loss 41.38522720336914\n",
            "epoch 141 loss 40.58246994018555\n",
            "epoch 142 loss 38.99494934082031\n",
            "epoch 143 loss 38.91231155395508\n",
            "epoch 144 loss 38.568634033203125\n",
            "epoch 145 loss 37.572853088378906\n",
            "epoch 146 loss 38.308311462402344\n",
            "epoch 147 loss 37.197654724121094\n",
            "epoch 148 loss 38.49043273925781\n",
            "epoch 149 loss 39.73088455200195\n",
            "epoch 150 loss 40.2796630859375\n",
            "epoch 151 loss 41.60737609863281\n",
            "epoch 152 loss 39.497650146484375\n",
            "epoch 153 loss 38.901824951171875\n",
            "epoch 154 loss 38.87519454956055\n",
            "epoch 155 loss 38.14009094238281\n",
            "epoch 156 loss 40.463523864746094\n",
            "epoch 157 loss 39.60521697998047\n",
            "epoch 158 loss 39.59553146362305\n",
            "epoch 159 loss 38.87592315673828\n",
            "epoch 160 loss 36.40393829345703\n",
            "epoch 161 loss 35.9228630065918\n",
            "epoch 162 loss 36.54896545410156\n",
            "epoch 163 loss 37.50198745727539\n",
            "epoch 164 loss 36.00405502319336\n",
            "epoch 165 loss 36.405487060546875\n",
            "epoch 166 loss 36.52808380126953\n",
            "epoch 167 loss 37.35733413696289\n",
            "epoch 168 loss 38.19867706298828\n",
            "epoch 169 loss 37.85843276977539\n",
            "epoch 170 loss 38.57415008544922\n",
            "epoch 171 loss 36.02442169189453\n",
            "epoch 172 loss 35.2663688659668\n",
            "epoch 173 loss 34.778446197509766\n",
            "epoch 174 loss 36.077293395996094\n",
            "epoch 175 loss 37.3882942199707\n",
            "epoch 176 loss 38.57564926147461\n",
            "epoch 177 loss 37.42243957519531\n",
            "epoch 178 loss 40.335880279541016\n",
            "epoch 179 loss 37.8936767578125\n",
            "epoch 180 loss 37.52479553222656\n",
            "epoch 181 loss 40.484283447265625\n",
            "epoch 182 loss 41.315128326416016\n",
            "epoch 183 loss 39.1702766418457\n",
            "epoch 184 loss 36.06780242919922\n",
            "epoch 185 loss 36.671119689941406\n",
            "epoch 186 loss 37.27314758300781\n",
            "epoch 187 loss 36.245750427246094\n",
            "epoch 188 loss 35.60299301147461\n",
            "epoch 189 loss 35.91861343383789\n",
            "epoch 190 loss 35.97295379638672\n",
            "epoch 191 loss 36.106170654296875\n",
            "epoch 192 loss 36.2968635559082\n",
            "epoch 193 loss 36.15670394897461\n",
            "epoch 194 loss 35.9515266418457\n",
            "epoch 195 loss 34.55402755737305\n",
            "epoch 196 loss 33.745758056640625\n",
            "epoch 197 loss 32.32414627075195\n",
            "epoch 198 loss 33.136497497558594\n",
            "epoch 199 loss 33.75983810424805\n",
            "epoch 200 loss 33.39609146118164\n",
            "epoch 201 loss 34.181270599365234\n",
            "epoch 202 loss 34.68507385253906\n",
            "epoch 203 loss 33.68913269042969\n",
            "epoch 204 loss 33.820865631103516\n",
            "epoch 205 loss 34.904781341552734\n",
            "epoch 206 loss 36.17332077026367\n",
            "epoch 207 loss 35.814414978027344\n",
            "epoch 208 loss 34.09699630737305\n",
            "epoch 209 loss 33.8609733581543\n",
            "epoch 210 loss 33.23678207397461\n",
            "epoch 211 loss 33.58796691894531\n",
            "epoch 212 loss 33.2720947265625\n",
            "epoch 213 loss 32.15848922729492\n",
            "epoch 214 loss 32.78348159790039\n",
            "epoch 215 loss 33.71186447143555\n",
            "epoch 216 loss 34.379051208496094\n",
            "epoch 217 loss 35.35706329345703\n",
            "epoch 218 loss 34.55510711669922\n",
            "epoch 219 loss 34.06819534301758\n",
            "epoch 220 loss 32.58433532714844\n",
            "epoch 221 loss 32.67509078979492\n",
            "epoch 222 loss 31.974681854248047\n",
            "epoch 223 loss 32.2570686340332\n",
            "epoch 224 loss 31.554807662963867\n",
            "epoch 225 loss 32.680274963378906\n",
            "epoch 226 loss 32.0887336730957\n",
            "epoch 227 loss 32.573238372802734\n",
            "epoch 228 loss 34.343563079833984\n",
            "epoch 229 loss 34.58641052246094\n",
            "epoch 230 loss 33.4622802734375\n",
            "epoch 231 loss 33.4479866027832\n",
            "epoch 232 loss 33.7722053527832\n",
            "epoch 233 loss 33.466957092285156\n",
            "epoch 234 loss 32.553462982177734\n",
            "epoch 235 loss 32.598915100097656\n",
            "epoch 236 loss 33.464073181152344\n",
            "epoch 237 loss 35.67223358154297\n",
            "epoch 238 loss 36.661460876464844\n",
            "epoch 239 loss 38.09318923950195\n",
            "epoch 240 loss 38.03651428222656\n",
            "epoch 241 loss 36.33347702026367\n",
            "epoch 242 loss 35.99337387084961\n",
            "epoch 243 loss 35.197025299072266\n",
            "epoch 244 loss 34.279605865478516\n",
            "epoch 245 loss 34.740962982177734\n",
            "epoch 246 loss 35.66649627685547\n",
            "epoch 247 loss 36.55949401855469\n",
            "epoch 248 loss 38.63362121582031\n",
            "epoch 249 loss 36.1918830871582\n",
            "epoch 250 loss 34.80455017089844\n",
            "epoch 251 loss 32.33791732788086\n",
            "epoch 252 loss 32.644840240478516\n",
            "epoch 253 loss 31.79977798461914\n",
            "epoch 254 loss 31.677194595336914\n",
            "epoch 255 loss 31.729707717895508\n",
            "epoch 256 loss 32.13618850708008\n",
            "epoch 257 loss 31.617021560668945\n",
            "epoch 258 loss 31.24204444885254\n",
            "epoch 259 loss 30.53034210205078\n",
            "epoch 260 loss 31.138229370117188\n",
            "epoch 261 loss 30.363323211669922\n",
            "epoch 262 loss 31.342958450317383\n",
            "epoch 263 loss 29.75954818725586\n",
            "epoch 264 loss 29.222135543823242\n",
            "epoch 265 loss 30.50056266784668\n",
            "epoch 266 loss 30.026103973388672\n",
            "epoch 267 loss 29.746366500854492\n",
            "epoch 268 loss 30.236024856567383\n",
            "epoch 269 loss 31.75257110595703\n",
            "epoch 270 loss 31.187578201293945\n",
            "epoch 271 loss 31.61693000793457\n",
            "epoch 272 loss 31.7707576751709\n",
            "epoch 273 loss 30.784273147583008\n",
            "epoch 274 loss 29.920936584472656\n",
            "epoch 275 loss 31.03644561767578\n",
            "epoch 276 loss 33.77500915527344\n",
            "epoch 277 loss 33.17330551147461\n",
            "epoch 278 loss 33.71662902832031\n",
            "epoch 279 loss 34.068695068359375\n",
            "epoch 280 loss 34.580421447753906\n",
            "epoch 281 loss 34.17897033691406\n",
            "epoch 282 loss 34.25083923339844\n",
            "epoch 283 loss 33.792667388916016\n",
            "epoch 284 loss 34.878929138183594\n",
            "epoch 285 loss 33.41050338745117\n",
            "epoch 286 loss 34.756229400634766\n",
            "epoch 287 loss 34.837554931640625\n",
            "epoch 288 loss 35.54781723022461\n",
            "epoch 289 loss 33.616371154785156\n",
            "epoch 290 loss 32.67802429199219\n",
            "epoch 291 loss 32.69184494018555\n",
            "epoch 292 loss 31.48274040222168\n",
            "epoch 293 loss 31.4953556060791\n",
            "epoch 294 loss 31.748153686523438\n",
            "epoch 295 loss 30.46445655822754\n",
            "epoch 296 loss 31.263782501220703\n",
            "epoch 297 loss 29.95269775390625\n",
            "epoch 298 loss 30.960107803344727\n",
            "epoch 299 loss 31.08601188659668\n",
            "epoch 300 loss 29.868183135986328\n",
            "epoch 301 loss 29.618938446044922\n",
            "epoch 302 loss 31.295032501220703\n",
            "epoch 303 loss 29.401809692382812\n",
            "epoch 304 loss 29.08856773376465\n",
            "epoch 305 loss 29.129430770874023\n",
            "epoch 306 loss 30.321760177612305\n",
            "epoch 307 loss 30.51852798461914\n",
            "epoch 308 loss 29.1167049407959\n",
            "epoch 309 loss 29.300371170043945\n",
            "epoch 310 loss 29.291706085205078\n",
            "epoch 311 loss 29.994403839111328\n",
            "epoch 312 loss 29.18731689453125\n",
            "epoch 313 loss 27.696794509887695\n",
            "epoch 314 loss 28.11052131652832\n",
            "epoch 315 loss 29.06865882873535\n",
            "epoch 316 loss 29.140703201293945\n",
            "epoch 317 loss 29.45134735107422\n",
            "epoch 318 loss 29.34654998779297\n",
            "epoch 319 loss 30.682764053344727\n",
            "epoch 320 loss 28.28132438659668\n",
            "epoch 321 loss 29.073467254638672\n",
            "epoch 322 loss 28.59099578857422\n",
            "epoch 323 loss 29.952945709228516\n",
            "epoch 324 loss 30.09772491455078\n",
            "epoch 325 loss 30.82357406616211\n",
            "epoch 326 loss 29.046669006347656\n",
            "epoch 327 loss 29.559358596801758\n",
            "epoch 328 loss 30.740774154663086\n",
            "epoch 329 loss 30.855329513549805\n",
            "epoch 330 loss 30.825136184692383\n",
            "epoch 331 loss 31.879840850830078\n",
            "epoch 332 loss 30.96881103515625\n",
            "epoch 333 loss 32.00520324707031\n",
            "epoch 334 loss 32.184085845947266\n",
            "epoch 335 loss 32.55025863647461\n",
            "epoch 336 loss 31.199316024780273\n",
            "epoch 337 loss 30.588193893432617\n",
            "epoch 338 loss 34.22853469848633\n",
            "epoch 339 loss 32.722198486328125\n",
            "epoch 340 loss 31.298587799072266\n",
            "epoch 341 loss 32.72214889526367\n",
            "epoch 342 loss 32.41086196899414\n",
            "epoch 343 loss 31.375953674316406\n",
            "epoch 344 loss 30.612812042236328\n",
            "epoch 345 loss 29.945528030395508\n",
            "epoch 346 loss 29.376184463500977\n",
            "epoch 347 loss 28.72133445739746\n",
            "epoch 348 loss 29.32918357849121\n",
            "epoch 349 loss 29.51361656188965\n",
            "epoch 350 loss 28.86369514465332\n",
            "epoch 351 loss 27.746932983398438\n",
            "epoch 352 loss 28.98554039001465\n",
            "epoch 353 loss 27.594465255737305\n",
            "epoch 354 loss 29.06340217590332\n",
            "epoch 355 loss 29.235912322998047\n",
            "epoch 356 loss 30.46986961364746\n",
            "epoch 357 loss 29.04363250732422\n",
            "epoch 358 loss 27.85343360900879\n",
            "epoch 359 loss 27.706722259521484\n",
            "epoch 360 loss 26.939977645874023\n",
            "epoch 361 loss 27.1610107421875\n",
            "epoch 362 loss 27.092819213867188\n",
            "epoch 363 loss 27.573307037353516\n",
            "epoch 364 loss 27.687349319458008\n",
            "epoch 365 loss 27.3170108795166\n",
            "epoch 366 loss 28.292720794677734\n",
            "epoch 367 loss 27.664979934692383\n",
            "epoch 368 loss 26.44829750061035\n",
            "epoch 369 loss 27.718759536743164\n",
            "epoch 370 loss 26.981834411621094\n",
            "epoch 371 loss 28.338586807250977\n",
            "epoch 372 loss 27.16356086730957\n",
            "epoch 373 loss 26.95604705810547\n",
            "epoch 374 loss 27.403785705566406\n",
            "epoch 375 loss 26.720191955566406\n",
            "epoch 376 loss 27.070594787597656\n",
            "epoch 377 loss 28.044605255126953\n",
            "epoch 378 loss 27.105329513549805\n",
            "epoch 379 loss 27.082731246948242\n",
            "epoch 380 loss 26.804393768310547\n",
            "epoch 381 loss 27.82654571533203\n",
            "epoch 382 loss 26.93692970275879\n",
            "epoch 383 loss 27.136154174804688\n",
            "epoch 384 loss 27.112125396728516\n",
            "epoch 385 loss 26.958580017089844\n",
            "epoch 386 loss 27.882890701293945\n",
            "epoch 387 loss 28.3972110748291\n",
            "epoch 388 loss 29.942148208618164\n",
            "epoch 389 loss 30.026260375976562\n",
            "epoch 390 loss 29.11920928955078\n",
            "epoch 391 loss 29.66806983947754\n",
            "epoch 392 loss 30.188316345214844\n",
            "epoch 393 loss 31.152164459228516\n",
            "epoch 394 loss 32.314109802246094\n",
            "epoch 395 loss 32.8364372253418\n",
            "epoch 396 loss 33.30125045776367\n",
            "epoch 397 loss 30.771142959594727\n",
            "epoch 398 loss 34.24114990234375\n",
            "epoch 399 loss 31.396760940551758\n",
            "epoch 400 loss 31.758405685424805\n",
            "epoch 401 loss 29.925052642822266\n",
            "epoch 402 loss 32.23716354370117\n",
            "epoch 403 loss 32.45820999145508\n",
            "epoch 404 loss 35.92948532104492\n",
            "epoch 405 loss 34.76246643066406\n",
            "epoch 406 loss 32.355613708496094\n",
            "epoch 407 loss 31.446292877197266\n",
            "epoch 408 loss 32.61731719970703\n",
            "epoch 409 loss 31.420358657836914\n",
            "epoch 410 loss 31.154287338256836\n",
            "epoch 411 loss 30.1729679107666\n",
            "epoch 412 loss 29.014081954956055\n",
            "epoch 413 loss 27.957422256469727\n",
            "epoch 414 loss 27.362953186035156\n",
            "epoch 415 loss 27.26630401611328\n",
            "epoch 416 loss 27.054508209228516\n",
            "epoch 417 loss 27.242603302001953\n",
            "epoch 418 loss 26.945669174194336\n",
            "epoch 419 loss 27.041236877441406\n",
            "epoch 420 loss 26.28224754333496\n",
            "epoch 421 loss 25.6986083984375\n",
            "epoch 422 loss 25.564470291137695\n",
            "epoch 423 loss 25.18488883972168\n",
            "epoch 424 loss 25.6557559967041\n",
            "epoch 425 loss 25.803316116333008\n",
            "epoch 426 loss 26.337139129638672\n",
            "epoch 427 loss 25.433887481689453\n",
            "epoch 428 loss 25.84375\n",
            "epoch 429 loss 25.396474838256836\n",
            "epoch 430 loss 26.323955535888672\n",
            "epoch 431 loss 26.257776260375977\n",
            "epoch 432 loss 25.306840896606445\n",
            "epoch 433 loss 25.884733200073242\n",
            "epoch 434 loss 27.240802764892578\n",
            "epoch 435 loss 28.223407745361328\n",
            "epoch 436 loss 27.493196487426758\n",
            "epoch 437 loss 27.405466079711914\n",
            "epoch 438 loss 26.93815040588379\n",
            "epoch 439 loss 27.324153900146484\n",
            "epoch 440 loss 27.100961685180664\n",
            "epoch 441 loss 27.887489318847656\n",
            "epoch 442 loss 27.306257247924805\n",
            "epoch 443 loss 27.9318904876709\n",
            "epoch 444 loss 27.06549835205078\n",
            "epoch 445 loss 27.612401962280273\n",
            "epoch 446 loss 26.442569732666016\n",
            "epoch 447 loss 27.559364318847656\n",
            "epoch 448 loss 27.778278350830078\n",
            "epoch 449 loss 29.62127685546875\n",
            "epoch 450 loss 28.521448135375977\n",
            "epoch 451 loss 26.585926055908203\n",
            "epoch 452 loss 27.970653533935547\n",
            "epoch 453 loss 26.98476219177246\n",
            "epoch 454 loss 26.390596389770508\n",
            "epoch 455 loss 26.459407806396484\n",
            "epoch 456 loss 28.744537353515625\n",
            "epoch 457 loss 28.751386642456055\n",
            "epoch 458 loss 28.395540237426758\n",
            "epoch 459 loss 30.08494758605957\n",
            "epoch 460 loss 29.556102752685547\n",
            "epoch 461 loss 29.579967498779297\n",
            "epoch 462 loss 29.714397430419922\n",
            "epoch 463 loss 29.16351318359375\n",
            "epoch 464 loss 28.350244522094727\n",
            "epoch 465 loss 28.94254493713379\n",
            "epoch 466 loss 28.681100845336914\n",
            "epoch 467 loss 27.841691970825195\n",
            "epoch 468 loss 25.69536018371582\n",
            "epoch 469 loss 26.892589569091797\n",
            "epoch 470 loss 27.859935760498047\n",
            "epoch 471 loss 26.87798309326172\n",
            "epoch 472 loss 26.605361938476562\n",
            "epoch 473 loss 28.479677200317383\n",
            "epoch 474 loss 27.730052947998047\n",
            "epoch 475 loss 25.63459587097168\n",
            "epoch 476 loss 26.01063346862793\n",
            "epoch 477 loss 26.59945297241211\n",
            "epoch 478 loss 27.686670303344727\n",
            "epoch 479 loss 27.231372833251953\n",
            "epoch 480 loss 27.31519889831543\n",
            "epoch 481 loss 27.635169982910156\n",
            "epoch 482 loss 27.505931854248047\n",
            "epoch 483 loss 27.15815544128418\n",
            "epoch 484 loss 26.177846908569336\n",
            "epoch 485 loss 26.573619842529297\n",
            "epoch 486 loss 27.376192092895508\n",
            "epoch 487 loss 27.710426330566406\n",
            "epoch 488 loss 26.948816299438477\n",
            "epoch 489 loss 27.0566349029541\n",
            "epoch 490 loss 26.10267448425293\n",
            "epoch 491 loss 27.42043685913086\n",
            "epoch 492 loss 26.489431381225586\n",
            "epoch 493 loss 25.895692825317383\n",
            "epoch 494 loss 27.85921287536621\n",
            "epoch 495 loss 26.32000160217285\n",
            "epoch 496 loss 25.752391815185547\n",
            "epoch 497 loss 24.08822250366211\n",
            "epoch 498 loss 24.964527130126953\n",
            "epoch 499 loss 25.92305564880371\n",
            "Model saved in path: ./modelVCADog.ckpt\n"
          ],
          "name": "stdout"
        }
      ]
    },
    {
      "metadata": {
        "id": "ATDIevXF3b3i",
        "colab_type": "code",
        "colab": {}
      },
      "cell_type": "code",
      "source": [
        "def reconstruct_image(df, image_number = 1):\n",
        "    ## Part 1: Reshape the image to the correct dimension i.e 1, 1024\n",
        "    x_test = df[image_number]\n",
        "    x_test_1 = x_test.reshape((1, 32, 32, 3))\n",
        "    \n",
        "    ## Part 2: Feed the model with the unseen image, encode/decode the image\n",
        "    with tf.Session() as sess:     \n",
        "        sess.run(tf.global_variables_initializer()) \n",
        "        sess.run(iter.initializer, feed_dict={x: x_test_1,\n",
        "                                      batch_size: 1})\n",
        "    ## Part 3:  Print the real and reconstructed image\n",
        "      # Restore variables from disk.\n",
        "        saver.restore(sess, \"./modelVCADog.ckpt\")  \n",
        "        print(\"Model restored.\")\n",
        "      # Reconstruct image\n",
        "        outputs_val = output.eval()\n",
        "        print(outputs_val.shape)\n",
        "        fig = plt.figure()\n",
        "      # Plot real\n",
        "        ax1 = fig.add_subplot(121)\n",
        "        plot_image(x_test_1.reshape((32, 32, 3)))\n",
        "      # Plot estimated\n",
        "        ax2 = fig.add_subplot(122)\n",
        "        plot_image(outputs_val.reshape((32, 32, 3)))\n",
        "        plt.tight_layout()\n",
        "        fig = plt.gcf()"
      ],
      "execution_count": 0,
      "outputs": []
    },
    {
      "metadata": {
        "id": "xedPD4tT3drI",
        "colab_type": "code",
        "outputId": "020aff36-8758-4555-a5ae-e8db24ea5908",
        "colab": {
          "base_uri": "https://localhost:8080/",
          "height": 355
        }
      },
      "cell_type": "code",
      "source": [
        "reconstruct_image(df = x_test, image_number = 10)\t"
      ],
      "execution_count": 0,
      "outputs": [
        {
          "output_type": "stream",
          "text": [
            "INFO:tensorflow:Restoring parameters from ./modelVCADog.ckpt\n",
            "Model restored.\n",
            "(1, 3072)\n"
          ],
          "name": "stdout"
        },
        {
          "output_type": "display_data",
          "data": {
            "image/png": "[encoded data removed]",
            "text/plain": [
              "<Figure size 576x396 with 2 Axes>"
            ]
          },
          "metadata": {
            "tags": []
          }
        }
      ]
    },
    {
      "metadata": {
        "id": "TaSQKbVDS5gd",
        "colab_type": "code",
        "outputId": "2e06b300-f906-4e0d-930b-1a78cf59c824",
        "colab": {
          "base_uri": "https://localhost:8080/",
          "height": 75
        }
      },
      "cell_type": "code",
      "source": [
        "import os\n",
        "print( os.getcwd() )\n",
        "print( os.listdir('./') )"
      ],
      "execution_count": 0,
      "outputs": [
        {
          "output_type": "stream",
          "text": [
            "/content\n",
            "['.config', 'modelVCADog2.ckpt.meta', 'checkpoint', 'modelVCADog.ckpt.index', 'modelVCADog.ckpt.data-00000-of-00001', 'modelVCADog.ckpt (1).meta', 'modelVCADog.ckpt.meta', 'sample_data']\n"
          ],
          "name": "stdout"
        }
      ]
    },
    {
      "metadata": {
        "id": "go-8H6YPURV7",
        "colab_type": "code",
        "colab": {}
      },
      "cell_type": "code",
      "source": [
        "from google.colab import files\n",
        "files.download( \"./model.ckpt.meta\") "
      ],
      "execution_count": 0,
      "outputs": []
    },
    {
      "metadata": {
        "id": "7xMMiZ1cPmms",
        "colab_type": "code",
        "outputId": "308f6b55-0d2d-4fc3-8f7f-80bacf83fff2",
        "colab": {
          "resources": {
            "http://localhost:8080/nbextensions/google.colab/files.js": {
              "data": "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",
              "ok": true,
              "headers": [
                [
                  "content-type",
                  "application/javascript"
                ]
              ],
              "status": 200,
              "status_text": "OK"
            }
          },
          "base_uri": "https://localhost:8080/",
          "height": 78
        }
      },
      "cell_type": "code",
      "source": [
        "from google.colab import files\n",
        "\n",
        "uploaded = files.upload()"
      ],
      "execution_count": 0,
      "outputs": [
        {
          "output_type": "display_data",
          "data": {
            "text/html": [
              "\n",
              "     <input type=\"file\" id=\"files-916edd13-d4c8-4b4c-8d7f-202de3243e22\" name=\"files[]\" multiple disabled />\n",
              "     <output id=\"result-916edd13-d4c8-4b4c-8d7f-202de3243e22\">\n",
              "      Upload widget is only available when the cell has been executed in the\n",
              "      current browser session. Please rerun this cell to enable.\n",
              "      </output>\n",
              "      <script src=\"/nbextensions/google.colab/files.js\"></script> "
            ],
            "text/plain": [
              "<IPython.core.display.HTML object>"
            ]
          },
          "metadata": {
            "tags": []
          }
        },
        {
          "output_type": "stream",
          "text": [
            "Saving modelVCADog2.ckpt.meta to modelVCADog2.ckpt.meta\n"
          ],
          "name": "stdout"
        }
      ]
    }
  ]
}